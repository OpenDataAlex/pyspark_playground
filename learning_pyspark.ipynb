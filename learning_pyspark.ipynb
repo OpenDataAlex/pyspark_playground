{
  "cells": [
    {
      "cell_type": "code",
      "execution_count": 36,
      "outputs": [],
      "source": "\n\nfrom pyspark.sql import SparkSession\nfrom pyspark.sql.types import *\nfrom pyspark.sql import functions\n\nspark \u003d SparkSession.builder.master(\"local\").appName(\"Neural Network Model\").config(\"spark.executor.memory\", \"6gb\").getOrCreate()\n\nsc \u003d spark.sparkContext\n",
      "metadata": {
        "pycharm": {
          "metadata": false,
          "name": "#%%\n",
          "is_executing": false
        }
      }
    },
    {
      "cell_type": "code",
      "execution_count": 53,
      "outputs": [
        {
          "traceback": [
            "\u001b[0;31m---------------------------------------------------------------------------\u001b[0m",
            "\u001b[0;31mNameError\u001b[0m                                 Traceback (most recent call last)",
            "\u001b[0;32m\u003cipython-input-53-a3cb4f30e09f\u003e\u001b[0m in \u001b[0;36m\u003cmodule\u003e\u001b[0;34m\u001b[0m\n\u001b[1;32m      1\u001b[0m \u001b[0;34m\u001b[0m\u001b[0m\n\u001b[1;32m      2\u001b[0m \u001b[0mdata_set\u001b[0m \u001b[0;34m\u003d\u001b[0m \u001b[0mspark\u001b[0m\u001b[0;34m.\u001b[0m\u001b[0mread\u001b[0m\u001b[0;34m.\u001b[0m\u001b[0mformat\u001b[0m\u001b[0;34m(\u001b[0m\u001b[0;34m\"csv\"\u001b[0m\u001b[0;34m)\u001b[0m\u001b[0;34m.\u001b[0m\u001b[0moption\u001b[0m\u001b[0;34m(\u001b[0m\u001b[0;34m\"header\"\u001b[0m\u001b[0;34m,\u001b[0m \u001b[0;34m\"true\"\u001b[0m\u001b[0;34m)\u001b[0m\u001b[0;34m.\u001b[0m\u001b[0mload\u001b[0m\u001b[0;34m(\u001b[0m\u001b[0;34m\"/home/ameadows/Downloads/HeightAndWeight.txt\"\u001b[0m\u001b[0;34m)\u001b[0m\u001b[0;34m\u001b[0m\u001b[0;34m\u001b[0m\u001b[0m\n\u001b[0;32m----\u003e 3\u001b[0;31m \u001b[0mdata_set\u001b[0m \u001b[0;34m\u003d\u001b[0m \u001b[0mdata_set\u001b[0m\u001b[0;34m.\u001b[0m\u001b[0mwithColumn\u001b[0m\u001b[0;34m(\u001b[0m\u001b[0;34m\u0027Height\u0027\u001b[0m\u001b[0;34m,\u001b[0m \u001b[0mdata_set\u001b[0m\u001b[0;34m[\u001b[0m\u001b[0;34m\u0027Height\u0027\u001b[0m\u001b[0;34m]\u001b[0m\u001b[0;34m.\u001b[0m\u001b[0mcast\u001b[0m\u001b[0;34m(\u001b[0m\u001b[0mInte\u001b[0m\u001b[0;34m)\u001b[0m\u001b[0;34m)\u001b[0m\u001b[0;34m\u001b[0m\u001b[0;34m\u001b[0m\u001b[0m\n\u001b[0m\u001b[1;32m      4\u001b[0m \u001b[0mdata_set\u001b[0m \u001b[0;34m\u003d\u001b[0m \u001b[0mdata_set\u001b[0m\u001b[0;34m.\u001b[0m\u001b[0mwithColumn\u001b[0m\u001b[0;34m(\u001b[0m\u001b[0;34m\u0027Weight\u0027\u001b[0m\u001b[0;34m,\u001b[0m \u001b[0mdata_set\u001b[0m\u001b[0;34m[\u001b[0m\u001b[0;34m\u0027Weight\u0027\u001b[0m\u001b[0;34m]\u001b[0m\u001b[0;34m.\u001b[0m\u001b[0mcast\u001b[0m\u001b[0;34m(\u001b[0m\u001b[0mIntegerType\u001b[0m\u001b[0;34m(\u001b[0m\u001b[0;34m)\u001b[0m\u001b[0;34m)\u001b[0m\u001b[0;34m)\u001b[0m\u001b[0;34m\u001b[0m\u001b[0;34m\u001b[0m\u001b[0m\n\u001b[1;32m      5\u001b[0m \u001b[0mdata_set\u001b[0m\u001b[0;34m.\u001b[0m\u001b[0mshow\u001b[0m\u001b[0;34m(\u001b[0m\u001b[0;34m)\u001b[0m\u001b[0;34m\u001b[0m\u001b[0;34m\u001b[0m\u001b[0m\n",
            "\u001b[0;31mNameError\u001b[0m: name \u0027Inte\u0027 is not defined"
          ],
          "ename": "NameError",
          "evalue": "name \u0027Inte\u0027 is not defined",
          "output_type": "error"
        }
      ],
      "source": "\ndata_set \u003d spark.read.format(\"csv\").option(\"header\", \"true\").load(\"/home/ameadows/Downloads/HeightAndWeight.txt\")\ndata_set \u003d data_set.withColumn(\u0027Height\u0027, data_set[\u0027Height\u0027].cast(IntegerType))\ndata_set \u003d data_set.withColumn(\u0027Weight\u0027, data_set[\u0027Weight\u0027].cast(IntegerType()))\ndata_set.show()\n",
      "metadata": {
        "pycharm": {
          "metadata": false,
          "name": "#%%\n",
          "is_executing": false
        }
      }
    },
    {
      "cell_type": "code",
      "execution_count": 54,
      "outputs": [
        {
          "name": "stdout",
          "text": [
            "+------+------+------+\n|Gender|Height|Weight|\n+------+------+------+\n|     0|    67|   150|\n|     0|    65|   135|\n|     0|    68|   130|\n|     1|    70|   160|\n|     0|    70|   130|\n|     1|    69|   174|\n|     1|    65|   126|\n|     1|    74|   188|\n|     0|    60|   110|\n|     0|    63|   125|\n|     1|    70|   173|\n|     0|    70|   145|\n|     1|    68|   175|\n|     0|    65|   123|\n|     1|    71|   145|\n|     1|    74|   160|\n|     0|    64|   135|\n|     1|    71|   175|\n|     1|    67|   145|\n|     1|    67|   130|\n+------+------+------+\nonly showing top 20 rows\n\n"
          ],
          "output_type": "stream"
        }
      ],
      "source": "data_set \u003d data_set.withColumn(\u0027Gender\u0027, functions.when(data_set[\u0027Gender\u0027] \u003d\u003d \u0027Female\u0027, 0).otherwise(1))\ndata_set.show()\n",
      "metadata": {
        "pycharm": {
          "metadata": false,
          "name": "#%%\n",
          "is_executing": false
        }
      }
    },
    {
      "cell_type": "code",
      "execution_count": 55,
      "outputs": [
        {
          "name": "stdout",
          "text": [
            "+------+------+------+\n|Height|Weight|Gender|\n+------+------+------+\n|    67|   150|     0|\n|    65|   135|     0|\n|    68|   130|     0|\n|    70|   160|     1|\n|    70|   130|     0|\n|    69|   174|     1|\n|    65|   126|     1|\n|    74|   188|     1|\n|    60|   110|     0|\n|    63|   125|     0|\n|    70|   173|     1|\n|    70|   145|     0|\n|    68|   175|     1|\n|    65|   123|     0|\n|    71|   145|     1|\n|    74|   160|     1|\n|    64|   135|     0|\n|    71|   175|     1|\n|    67|   145|     1|\n|    67|   130|     1|\n+------+------+------+\nonly showing top 20 rows\n\n"
          ],
          "output_type": "stream"
        }
      ],
      "source": "data_set \u003d data_set.select(\u0027Height\u0027, \u0027Weight\u0027, \"Gender\")\ndata_set.show()\n\n",
      "metadata": {
        "pycharm": {
          "metadata": false,
          "name": "#%%\n",
          "is_executing": false
        }
      }
    },
    {
      "cell_type": "code",
      "execution_count": 56,
      "outputs": [
        {
          "data": {
            "text/plain": "array([ 64, 109,   0])"
          },
          "metadata": {},
          "output_type": "execute_result",
          "execution_count": 56
        }
      ],
      "source": "import numpy as np\n\ndata_array \u003d np.array(data_set.select(\"Height\", \"Weight\", \"Gender\").collect()).astype(np.int)\ndata_array[0]\ndata_array[28]\n",
      "metadata": {
        "pycharm": {
          "metadata": false,
          "name": "#%%\n",
          "is_executing": false
        }
      }
    },
    {
      "cell_type": "code",
      "execution_count": 57,
      "outputs": [
        {
          "name": "stdout",
          "text": [
            "[ 60 107   0]\n[ 74 188   1]\n"
          ],
          "output_type": "stream"
        }
      ],
      "source": "print(data_array.min(axis\u003d0))\nprint(data_array.max(axis\u003d0))\n",
      "metadata": {
        "pycharm": {
          "metadata": false,
          "name": "#%%\n",
          "is_executing": false
        }
      }
    },
    {
      "cell_type": "code",
      "execution_count": 60,
      "outputs": [
        {
          "data": {
            "text/plain": "\u003cmatplotlib.legend.Legend at 0x7f87c1013d30\u003e"
          },
          "metadata": {},
          "output_type": "execute_result",
          "execution_count": 60
        },
        {
          "data": {
            "text/plain": "\u003cFigure size 675x300 with 1 Axes\u003e",
            "image/png": "[encoded data removed]"
          },
          "metadata": {
            "needs_background": "light"
          },
          "output_type": "display_data"
        }
      ],
      "source": "import matplotlib.pyplot as plt\n%matplotlib inline\n\nmin_x \u003d data_array.min(axis\u003d0)[0]-10\nmax_x \u003d data_array.max(axis\u003d0)[0]+10\n\nmin_y \u003d data_array.min(axis\u003d0)[1]-10\nmax_y \u003d data_array.max(axis\u003d0)[1]+10\n\n# formatting the plot grid, scales, and figure size\nplt.figure(figsize\u003d(9,4), dpi\u003d75)\nplt.axis([min_x, max_x, min_y, max_y])\nplt.grid()\nfor i in range(len(data_array)):\n    value \u003d data_array[i]\n    # assign label values to specific matrix elements\n    gender \u003d value[2]\n    height \u003d value[0]\n    weight \u003d value[1]\n    \n    # filter data points by gender\n    a \u003d plt.scatter(height[gender \u003d\u003d 0], weight[gender \u003d\u003d 0], marker \u003d \u0027x\u0027, c\u003d \u0027b\u0027, label \u003d \u0027Female\u0027)\n    b \u003d plt.scatter(height[gender \u003d\u003d 1], weight[gender \u003d\u003d 1], marker\u003d \u0027o\u0027, c\u003d \u0027b\u0027, label \u003d \u0027Male\u0027)\n    \nplt.title(\u0027Weight vs Height by Gender\u0027)\nplt.xlabel(\u0027Height (in)\u0027)\nplt.ylabel(\u0027Weight (lbs)\u0027)\nplt.legend(handles \u003d [a,b])\n",
      "metadata": {
        "pycharm": {
          "metadata": false,
          "name": "#%%\n",
          "is_executing": false
        }
      }
    },
    {
      "cell_type": "code",
      "execution_count": null,
      "outputs": [],
      "source": "\n",
      "metadata": {
        "pycharm": {
          "metadata": false,
          "name": "#%%\n"
        }
      }
    }
  ],
  "metadata": {
    "language_info": {
      "codemirror_mode": {
        "name": "ipython",
        "version": 2
      },
      "file_extension": ".py",
      "mimetype": "text/x-python",
      "name": "python",
      "nbconvert_exporter": "python",
      "pygments_lexer": "ipython2",
      "version": "2.7.6"
    },
    "kernelspec": {
      "name": "python3",
      "language": "python",
      "display_name": "Python 3"
    },
    "stem_cell": {
      "cell_type": "raw",
      "source": "",
      "metadata": {
        "pycharm": {
          "metadata": false
        }
      }
    }
  },
  "nbformat": 4,
  "nbformat_minor": 0
}